{
 "cells": [
  {
   "cell_type": "code",
   "execution_count": 7,
   "id": "c28fa87a",
   "metadata": {},
   "outputs": [],
   "source": [
    "import pandas as pd\n",
    "import numpy as np\n",
    "from PIL import Image\n",
    "import shutil\n",
    "\n",
    "import os"
   ]
  },
  {
   "cell_type": "code",
   "execution_count": null,
   "id": "7affd0fd",
   "metadata": {},
   "outputs": [],
   "source": [
    "dataset_path = \"datasets/obj\"\n",
    "\n",
    "labels = []\n",
    "classes = []\n",
    "\n",
    "for filename in os.listdir(dataset_path):\n",
    "    file_path = os.path.join(dataset_path, filename)\n",
    "    if filename.endswith(\".txt\"):\n",
    "        print(\"Text file:\", filename)\n",
    "        labels.append(filename)\n",
    "        with open(file_path, 'r', encoding='utf-8') as f:\n",
    "            first_char = f.read(1)\n",
    "            classes.append(first_char)"
   ]
  },
  {
   "cell_type": "code",
   "execution_count": 5,
   "id": "048ee7db",
   "metadata": {},
   "outputs": [
    {
     "data": {
      "text/html": [
       "<div>\n",
       "<style scoped>\n",
       "    .dataframe tbody tr th:only-of-type {\n",
       "        vertical-align: middle;\n",
       "    }\n",
       "\n",
       "    .dataframe tbody tr th {\n",
       "        vertical-align: top;\n",
       "    }\n",
       "\n",
       "    .dataframe thead th {\n",
       "        text-align: right;\n",
       "    }\n",
       "</style>\n",
       "<table border=\"1\" class=\"dataframe\">\n",
       "  <thead>\n",
       "    <tr style=\"text-align: right;\">\n",
       "      <th></th>\n",
       "      <th>0</th>\n",
       "    </tr>\n",
       "  </thead>\n",
       "  <tbody>\n",
       "  </tbody>\n",
       "</table>\n",
       "</div>"
      ],
      "text/plain": [
       "Empty DataFrame\n",
       "Columns: [0]\n",
       "Index: []"
      ]
     },
     "execution_count": 5,
     "metadata": {},
     "output_type": "execute_result"
    }
   ],
   "source": [
    "pd.DataFrame(classes)[7000:7050]"
   ]
  },
  {
   "cell_type": "code",
   "execution_count": 8,
   "id": "9de93088",
   "metadata": {},
   "outputs": [],
   "source": [
    "df = pd.DataFrame({\"label\": labels, \"class\": classes})"
   ]
  },
  {
   "cell_type": "code",
   "execution_count": 12,
   "id": "6495294d",
   "metadata": {},
   "outputs": [],
   "source": [
    "df.to_csv(\"imgs_labels.csv\", index=False)"
   ]
  },
  {
   "cell_type": "code",
   "execution_count": 33,
   "id": "2d7558ee",
   "metadata": {},
   "outputs": [],
   "source": [
    "# Set paths\n",
    "txt_folder = \"datasets/obj\"\n",
    "imgs_label = \"imgs_labelsV2.csv\"\n",
    "\n",
    "\n",
    "gun_folder = \"classified/gun\"\n",
    "fire_folder = \"classified/fire\"\n",
    "soldier_folder = \"classified/soldier\"\n",
    "\n",
    "\n",
    "os.makedirs(gun_folder, exist_ok=True)\n",
    "os.makedirs(fire_folder, exist_ok=True)\n",
    "os.makedirs(soldier_folder, exist_ok=True)\n",
    "\n",
    "\n",
    "df = pd.read_csv(imgs_label)"
   ]
  },
  {
   "cell_type": "code",
   "execution_count": 49,
   "id": "0dcbe250",
   "metadata": {},
   "outputs": [],
   "source": [
    "\n",
    "fire_imgs_list = []\n",
    "gun_imgs_list = []\n",
    "soldier_imgs_list = []\n",
    "\n",
    "img = None\n",
    "for _, row in df.iterrows():\n",
    "    label = row[\"label\"]  # e.g., '6fce6f21715f5aca'\n",
    "    class_id = row[\"class\"]\n",
    "    img_path = row[\"imgs_path\"]\n",
    "\n",
    "\n",
    "    txt_path = f\"{txt_folder}/{label}\"\n",
    "    \n",
    "    img_path = f\"{txt_folder}/{label}\".replace(\".txt\", \".jpg\")\n",
    "\n",
    "    img = Image.open(img_path)\n",
    "    if img.mode == 'RGBA' or img.mode == 'P':\n",
    "        img = img.convert('RGB')\n",
    "\n",
    "\n",
    "    # if class_id == 1:\n",
    "    #     img_output = f\"classified/fire/{label}\".replace(\".txt\", \".jpg\")\n",
    "    #     img.save(img_output)\n",
    "    if class_id == 0:\n",
    "        img_output = f\"classified/gun/{label}\".replace(\".txt\", \".jpg\")\n",
    "        img.save(img_output)\n",
    "\n",
    "    if class_id == 2:\n",
    "        img_output = f\"classified/soldier/{label}\".replace(\".txt\", \".jpg\")\n",
    "        img.save(img_output)\n",
    "\n",
    "\n",
    "        "
   ]
  },
  {
   "cell_type": "code",
   "execution_count": null,
   "id": "a15ab922",
   "metadata": {},
   "outputs": [
    {
     "data": {
      "text/plain": [
       "1375"
      ]
     },
     "execution_count": 42,
     "metadata": {},
     "output_type": "execute_result"
    }
   ],
   "source": []
  },
  {
   "cell_type": "code",
   "execution_count": null,
   "id": "60147a03",
   "metadata": {},
   "outputs": [],
   "source": []
  }
 ],
 "metadata": {
  "kernelspec": {
   "display_name": "venv",
   "language": "python",
   "name": "python3"
  },
  "language_info": {
   "codemirror_mode": {
    "name": "ipython",
    "version": 3
   },
   "file_extension": ".py",
   "mimetype": "text/x-python",
   "name": "python",
   "nbconvert_exporter": "python",
   "pygments_lexer": "ipython3",
   "version": "3.13.5"
  }
 },
 "nbformat": 4,
 "nbformat_minor": 5
}
